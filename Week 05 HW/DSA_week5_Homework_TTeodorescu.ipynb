{
 "cells": [
  {
   "cell_type": "markdown",
   "metadata": {},
   "source": [
    "# Data Science Academy / Week 5 Homework\n",
    "# Titus Teodorescu"
   ]
  },
  {
   "cell_type": "markdown",
   "metadata": {},
   "source": [
    "Part 1\n",
    "--------------\n",
    "Read and run the examples in the examples folder.\n"
   ]
  },
  {
   "cell_type": "markdown",
   "metadata": {},
   "source": [
    "Part 2\n",
    "--------------\n",
    "\n",
    "Load PSTRE_syntheticData.csv"
   ]
  },
  {
   "cell_type": "code",
   "execution_count": 1,
   "metadata": {},
   "outputs": [
    {
     "data": {
      "text/html": [
       "<div>\n",
       "<style scoped>\n",
       "    .dataframe tbody tr th:only-of-type {\n",
       "        vertical-align: middle;\n",
       "    }\n",
       "\n",
       "    .dataframe tbody tr th {\n",
       "        vertical-align: top;\n",
       "    }\n",
       "\n",
       "    .dataframe thead th {\n",
       "        text-align: right;\n",
       "    }\n",
       "</style>\n",
       "<table border=\"1\" class=\"dataframe\">\n",
       "  <thead>\n",
       "    <tr style=\"text-align: right;\">\n",
       "      <th></th>\n",
       "      <th>TestTakerID</th>\n",
       "      <th>Timestamp</th>\n",
       "      <th>Coding</th>\n",
       "    </tr>\n",
       "  </thead>\n",
       "  <tbody>\n",
       "    <tr>\n",
       "      <th>0</th>\n",
       "      <td>1001042</td>\n",
       "      <td>0</td>\n",
       "      <td>START</td>\n",
       "    </tr>\n",
       "    <tr>\n",
       "      <th>1</th>\n",
       "      <td>1001042</td>\n",
       "      <td>44985</td>\n",
       "      <td>SS_Se</td>\n",
       "    </tr>\n",
       "    <tr>\n",
       "      <th>2</th>\n",
       "      <td>1001042</td>\n",
       "      <td>55852</td>\n",
       "      <td>SS_Se_OK</td>\n",
       "    </tr>\n",
       "    <tr>\n",
       "      <th>3</th>\n",
       "      <td>1001042</td>\n",
       "      <td>55950</td>\n",
       "      <td>SS_Type_2</td>\n",
       "    </tr>\n",
       "    <tr>\n",
       "      <th>4</th>\n",
       "      <td>1001042</td>\n",
       "      <td>66546</td>\n",
       "      <td>E</td>\n",
       "    </tr>\n",
       "    <tr>\n",
       "      <th>...</th>\n",
       "      <td>...</td>\n",
       "      <td>...</td>\n",
       "      <td>...</td>\n",
       "    </tr>\n",
       "    <tr>\n",
       "      <th>10991</th>\n",
       "      <td>4076375</td>\n",
       "      <td>82216</td>\n",
       "      <td>SS</td>\n",
       "    </tr>\n",
       "    <tr>\n",
       "      <th>10992</th>\n",
       "      <td>4076375</td>\n",
       "      <td>107365</td>\n",
       "      <td>E</td>\n",
       "    </tr>\n",
       "    <tr>\n",
       "      <th>10993</th>\n",
       "      <td>4076375</td>\n",
       "      <td>112452</td>\n",
       "      <td>Next</td>\n",
       "    </tr>\n",
       "    <tr>\n",
       "      <th>10994</th>\n",
       "      <td>4076375</td>\n",
       "      <td>113670</td>\n",
       "      <td>Next_OK</td>\n",
       "    </tr>\n",
       "    <tr>\n",
       "      <th>10995</th>\n",
       "      <td>4076375</td>\n",
       "      <td>113672</td>\n",
       "      <td>END</td>\n",
       "    </tr>\n",
       "  </tbody>\n",
       "</table>\n",
       "<p>10996 rows × 3 columns</p>\n",
       "</div>"
      ],
      "text/plain": [
       "       TestTakerID  Timestamp     Coding\n",
       "0          1001042          0      START\n",
       "1          1001042      44985      SS_Se\n",
       "2          1001042      55852   SS_Se_OK\n",
       "3          1001042      55950  SS_Type_2\n",
       "4          1001042      66546          E\n",
       "...            ...        ...        ...\n",
       "10991      4076375      82216         SS\n",
       "10992      4076375     107365          E\n",
       "10993      4076375     112452       Next\n",
       "10994      4076375     113670    Next_OK\n",
       "10995      4076375     113672        END\n",
       "\n",
       "[10996 rows x 3 columns]"
      ]
     },
     "execution_count": 1,
     "metadata": {},
     "output_type": "execute_result"
    }
   ],
   "source": [
    "# import libraries\n",
    "import numpy as np\n",
    "import pandas as pd\n",
    "\n",
    "# read the data ans store it in variable df\n",
    "# despite the \".csv\" name (which suggests the data is separated by commas), the separator in the source .csv file is a tab\n",
    "df = pd.read_csv('data for week5/PSTRE_syntheticData.csv', sep='\\t')\n",
    "df"
   ]
  },
  {
   "cell_type": "markdown",
   "metadata": {},
   "source": [
    "* Create two new variables: action sequence variable and time interval sequence for each participant"
   ]
  },
  {
   "cell_type": "code",
   "execution_count": 2,
   "metadata": {},
   "outputs": [
    {
     "data": {
      "text/plain": [
       "[(1001042,\n",
       "  array(['START', 'SS_Se', 'SS_Se_OK', 'SS_Type_2', 'E', 'SS', 'E', 'Next',\n",
       "         'Next_OK'], dtype=object),\n",
       "  array([44985, 10867,    98, 10596, 23643,  5907,  5717,  3566,     3],\n",
       "        dtype=int64)),\n",
       " (1001079,\n",
       "  array(['START', 'SS_So', 'SS_So_1B', 'SS_So_OK', 'SS', 'E', 'SS', 'E',\n",
       "         'SS', 'E', 'SS', 'E', 'E', 'Next', 'Next_OK'], dtype=object),\n",
       "  array([21234,  6312,  4360, 45854, 29414,  7759,  5157,  4319,  1650,\n",
       "         41297,  6090,  5651, 13227,  1791,     2], dtype=int64)),\n",
       " (1001103,\n",
       "  array(['START', 'SS_Se', 'SS_Se_OK', 'SS_Type_2', 'E', 'SS', 'E', 'SS',\n",
       "         'E', 'Next', 'Next_OK'], dtype=object),\n",
       "  array([39002, 17605,   123, 31895,  4232, 31629, 18241,  7863, 19695,\n",
       "          1672,     1], dtype=int64))]"
      ]
     },
     "execution_count": 2,
     "metadata": {},
     "output_type": "execute_result"
    }
   ],
   "source": [
    "list_with_new_variables = [(tt_id, event[\"Coding\"].values[:-1], np.diff(event[\"Timestamp\"].values)) for tt_id, event in list(df.groupby(\"TestTakerID\"))]\n",
    "\n",
    "# display the first 3\n",
    "list_with_new_variables[0:3]"
   ]
  },
  {
   "cell_type": "markdown",
   "metadata": {},
   "source": [
    "* Extract the time for the first action for each participant"
   ]
  },
  {
   "cell_type": "code",
   "execution_count": 3,
   "metadata": {},
   "outputs": [
    {
     "data": {
      "text/plain": [
       "[(1001042, 44985),\n",
       " (1001079, 21234),\n",
       " (1001103, 39002),\n",
       " (1001112, 54895),\n",
       " (1002087, 158089),\n",
       " (1002110, 93106),\n",
       " (1003077, 53204),\n",
       " (1003110, 18045),\n",
       " (1003147, 110606),\n",
       " (1003165, 89372)]"
      ]
     },
     "execution_count": 3,
     "metadata": {},
     "output_type": "execute_result"
    }
   ],
   "source": [
    "duration_of_first_action = [(tt_id, event[\"Timestamp\"].values[1]-event[\"Timestamp\"].values[0]) for tt_id, event in list(df.groupby(\"TestTakerID\"))]\n",
    "\n",
    "# display the first 10\n",
    "duration_of_first_action[0:10]"
   ]
  },
  {
   "cell_type": "markdown",
   "metadata": {},
   "source": [
    "* Represent each action sequence by n-grams (n=2)"
   ]
  },
  {
   "cell_type": "code",
   "execution_count": 4,
   "metadata": {},
   "outputs": [
    {
     "data": {
      "text/plain": [
       "[(1001042,\n",
       "  [('START', 'SS_Se'),\n",
       "   ('SS_Se', 'SS_Se_OK'),\n",
       "   ('SS_Se_OK', 'SS_Type_2'),\n",
       "   ('SS_Type_2', 'E'),\n",
       "   ('E', 'SS'),\n",
       "   ('SS', 'E'),\n",
       "   ('E', 'Next'),\n",
       "   ('Next', 'Next_OK'),\n",
       "   ('Next_OK', 'END')]),\n",
       " (1001079,\n",
       "  [('START', 'SS_So'),\n",
       "   ('SS_So', 'SS_So_1B'),\n",
       "   ('SS_So_1B', 'SS_So_OK'),\n",
       "   ('SS_So_OK', 'SS'),\n",
       "   ('SS', 'E'),\n",
       "   ('E', 'SS'),\n",
       "   ('SS', 'E'),\n",
       "   ('E', 'SS'),\n",
       "   ('SS', 'E'),\n",
       "   ('E', 'SS'),\n",
       "   ('SS', 'E'),\n",
       "   ('E', 'E'),\n",
       "   ('E', 'Next'),\n",
       "   ('Next', 'Next_OK'),\n",
       "   ('Next_OK', 'END')]),\n",
       " (1001103,\n",
       "  [('START', 'SS_Se'),\n",
       "   ('SS_Se', 'SS_Se_OK'),\n",
       "   ('SS_Se_OK', 'SS_Type_2'),\n",
       "   ('SS_Type_2', 'E'),\n",
       "   ('E', 'SS'),\n",
       "   ('SS', 'E'),\n",
       "   ('E', 'SS'),\n",
       "   ('SS', 'E'),\n",
       "   ('E', 'Next'),\n",
       "   ('Next', 'Next_OK'),\n",
       "   ('Next_OK', 'END')])]"
      ]
     },
     "execution_count": 4,
     "metadata": {},
     "output_type": "execute_result"
    }
   ],
   "source": [
    "action_sequence_of_2_grams = [(tt_id, list(zip(event[\"Coding\"].values[:-1], event[\"Coding\"].values[1:]))) for tt_id, event in list(df.groupby(\"TestTakerID\"))]\n",
    "\n",
    "#display the first 3\n",
    "action_sequence_of_2_grams[0:3]"
   ]
  },
  {
   "cell_type": "code",
   "execution_count": null,
   "metadata": {},
   "outputs": [],
   "source": []
  }
 ],
 "metadata": {
  "kernelspec": {
   "display_name": "Python 3",
   "language": "python",
   "name": "python3"
  },
  "language_info": {
   "codemirror_mode": {
    "name": "ipython",
    "version": 3
   },
   "file_extension": ".py",
   "mimetype": "text/x-python",
   "name": "python",
   "nbconvert_exporter": "python",
   "pygments_lexer": "ipython3",
   "version": "3.8.8"
  }
 },
 "nbformat": 4,
 "nbformat_minor": 4
}
