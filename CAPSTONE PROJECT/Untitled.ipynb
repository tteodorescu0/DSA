{
 "cells": [
  {
   "cell_type": "code",
   "execution_count": 1,
   "id": "4e7ce39a-98e7-472f-8480-ad8983f81704",
   "metadata": {},
   "outputs": [],
   "source": [
    "import streamlit as st\n",
    "from sklearn.datasets import load_iris\n",
    "import pandas as pd\n",
    "import numpy as np\n",
    "import plotly.express as px\n",
    "\n",
    "df = pd.pandas.read_csv('data_capstone_dsa2021_2022.csv')"
   ]
  },
  {
   "cell_type": "code",
   "execution_count": 2,
   "id": "a5bfe1b7-080a-4be6-a9c7-5589c0b08181",
   "metadata": {},
   "outputs": [
    {
     "name": "stdout",
     "output_type": "stream",
     "text": [
      "<class 'pandas.core.frame.DataFrame'>\n",
      "RangeIndex: 1169 entries, 0 to 1168\n",
      "Data columns (total 45 columns):\n",
      " #   Column         Non-Null Count  Dtype \n",
      "---  ------         --------------  ----- \n",
      " 0   rt_gs_2        1169 non-null   int64 \n",
      " 1   rt_gs_3        1169 non-null   int64 \n",
      " 2   rt_gs_4        1169 non-null   int64 \n",
      " 3   rt_gs_5        1169 non-null   int64 \n",
      " 4   rt_gs_6        1169 non-null   int64 \n",
      " 5   rt_gs_7        1169 non-null   int64 \n",
      " 6   rt_gs_8        1169 non-null   int64 \n",
      " 7   rt_gs_9        1169 non-null   int64 \n",
      " 8   rt_gs_10       1169 non-null   int64 \n",
      " 9   rt_gs_11       1169 non-null   int64 \n",
      " 10  rt_gs_12       1169 non-null   int64 \n",
      " 11  rt_gs_13       1169 non-null   int64 \n",
      " 12  rt_gs_14       1169 non-null   int64 \n",
      " 13  rt_gs_15       1169 non-null   int64 \n",
      " 14  rt_gs_16       1169 non-null   int64 \n",
      " 15  rt_gs_17       1169 non-null   int64 \n",
      " 16  rt_gs_18       1169 non-null   int64 \n",
      " 17  rt_gs_19       1169 non-null   int64 \n",
      " 18  rt_gs_20       1169 non-null   int64 \n",
      " 19  rt_total       1169 non-null   int64 \n",
      " 20  gs_1           1169 non-null   int64 \n",
      " 21  gs_2           1169 non-null   int64 \n",
      " 22  gs_3           1169 non-null   int64 \n",
      " 23  gs_4           1169 non-null   int64 \n",
      " 24  gs_5           1169 non-null   int64 \n",
      " 25  gs_6           1169 non-null   int64 \n",
      " 26  gs_7           1169 non-null   int64 \n",
      " 27  gs_8           1169 non-null   int64 \n",
      " 28  gs_9           1169 non-null   int64 \n",
      " 29  gs_10          1169 non-null   int64 \n",
      " 30  gs_11          1169 non-null   int64 \n",
      " 31  gs_12          1169 non-null   int64 \n",
      " 32  gs_13          1169 non-null   int64 \n",
      " 33  gs_14          1169 non-null   int64 \n",
      " 34  gs_15          1169 non-null   int64 \n",
      " 35  gs_16          1169 non-null   int64 \n",
      " 36  gs_17          1169 non-null   int64 \n",
      " 37  gs_18          1169 non-null   int64 \n",
      " 38  gs_19          1169 non-null   int64 \n",
      " 39  gs_20          1169 non-null   int64 \n",
      " 40  sum_score      1169 non-null   int64 \n",
      " 41  gender         1169 non-null   object\n",
      " 42  home_computer  1169 non-null   object\n",
      " 43  state          1169 non-null   object\n",
      " 44  age            1169 non-null   int64 \n",
      "dtypes: int64(42), object(3)\n",
      "memory usage: 411.1+ KB\n"
     ]
    }
   ],
   "source": [
    "df.info()"
   ]
  },
  {
   "cell_type": "code",
   "execution_count": 3,
   "id": "6b961fe8-418b-4fee-8f83-537dcb979206",
   "metadata": {},
   "outputs": [
    {
     "name": "stderr",
     "output_type": "stream",
     "text": [
      "2022-01-18 20:48:37.098 INFO    numexpr.utils: NumExpr defaulting to 8 threads.\n"
     ]
    },
    {
     "name": "stdout",
     "output_type": "stream",
     "text": [
      "(0, 46)\n"
     ]
    }
   ],
   "source": [
    "df['rt_gs_1'] = df['rt_total']-df['rt_gs_2']-df['rt_gs_3']-df['rt_gs_4']-df['rt_gs_5']-df['rt_gs_6']-df['rt_gs_7']-df['rt_gs_8']-df['rt_gs_9']-df['rt_gs_10']-df['rt_gs_11']-df['rt_gs_12']-df['rt_gs_13']-df['rt_gs_14']-df['rt_gs_15']-df['rt_gs_16']-df['rt_gs_17']-df['rt_gs_18']-df['rt_gs_19']-df['rt_gs_20']\n",
    "print(df[df['rt_gs_1']!=0].shape)"
   ]
  },
  {
   "cell_type": "code",
   "execution_count": 4,
   "id": "67dfcbfe-8492-4a94-9258-9be0b28dd240",
   "metadata": {},
   "outputs": [
    {
     "name": "stdout",
     "output_type": "stream",
     "text": [
      "Counter({1: 983, 0: 186})\n"
     ]
    }
   ],
   "source": [
    "from collections import Counter\n",
    "print(Counter(df['gs_1'].T.to_numpy('int').tolist()))"
   ]
  },
  {
   "cell_type": "code",
   "execution_count": 5,
   "id": "02bfebc9-b96e-4594-86fc-3a30b76c5e31",
   "metadata": {},
   "outputs": [
    {
     "name": "stdout",
     "output_type": "stream",
     "text": [
      "(0, 47)\n"
     ]
    }
   ],
   "source": [
    "df['correct_sum'] = df['gs_1']+df['gs_2']+df['gs_3']+df['gs_4']+df['gs_5']+df['gs_6']+df['gs_7']+df['gs_8']+df['gs_9']+df['gs_10']+df['gs_11']+df['gs_12']+df['gs_13']+df['gs_14']+df['gs_15']+df['gs_16']+df['gs_17']+df['gs_18']+df['gs_19']+df['gs_20']-df['sum_score']\n",
    "print(df[df['correct_sum']!=0].shape)"
   ]
  },
  {
   "cell_type": "code",
   "execution_count": 8,
   "id": "e58dbc11-076a-46d9-896d-b9cce0f39608",
   "metadata": {},
   "outputs": [
    {
     "name": "stdout",
     "output_type": "stream",
     "text": [
      "Counter({'Female': 598, 'Male': 571})\n"
     ]
    }
   ],
   "source": [
    "print(Counter(df['gender'].T.to_numpy('str').tolist()))"
   ]
  },
  {
   "cell_type": "code",
   "execution_count": 9,
   "id": "216e393e-8216-4101-8b9d-6390999d3a11",
   "metadata": {},
   "outputs": [
    {
     "name": "stdout",
     "output_type": "stream",
     "text": [
      "Counter({'Yes': 792, 'No': 377})\n"
     ]
    }
   ],
   "source": [
    "print(Counter(df['home_computer'].T.to_numpy('str').tolist()))"
   ]
  },
  {
   "cell_type": "code",
   "execution_count": 10,
   "id": "07bf93ea-bbe0-449d-9f89-a7d68effc7c2",
   "metadata": {},
   "outputs": [
    {
     "name": "stdout",
     "output_type": "stream",
     "text": [
      "Counter({'California': 81, 'Florida': 51, 'Texas': 51, 'New York': 42, 'Ohio': 37, 'Michigan': 34, 'Illinois': 27, 'Pennsylvania': 26, 'Indiana': 22, 'North Carolina': 20, 'Georgia': 18, 'Wisconsin': 18, 'Maryland': 16, 'Missouri': 16, 'Kentucky': 15, 'New Jersey': 15, 'USA': 15, 'Louisiana': 15, 'Virginia': 13, 'PA': 13, 'United States': 12, 'Tennessee': 12, 'Massachusetts': 11, 'Arizona': 9, 'Alabama': 9, 'Colorado': 9, 'florida': 8, 'Minnesota': 8, 'Washington': 8, 'NY': 8, 'MN': 7, 'Oregon': 7, 'CA': 7, 'Connecticut': 7, 'california': 7, 'West Virginia': 6, 'ohio': 6, 'NJ': 6, 'NC': 6, 'Oklahoma': 6, 'Kansas': 6, 'michigan': 6, 'Washington State': 5, 'Canada': 5, 'texas': 5, 'South Carolina': 5, 'Missouri, USA': 5, 'Iowa': 5, 'Mississippi': 4, 'maryland': 4, 'NH': 4, 'US': 4, 'washington': 4, 'Nebraska': 4, 'NY, USA': 4, 'TX': 4, 'WA': 4, 'connecticut': 4, 'Ohio, USA': 4, 'new jersey': 4, 'Utah': 3, 'Texas, USA': 3, 'PA, USA': 3, 'alabama': 3, 'WI': 3, 'TN': 3, 'usa': 3, 'New Hampshire': 3, 'California, USA': 3, 'WV': 3, 'Idaho': 3, 'pennsylvania': 3, 'New Mexico': 3, 'Nevada': 3, 'FL': 3, 'Michigan, USA': 3, 'North Carolina, USA': 3, 'IL': 3, 'GA': 2, 'Virginia, USA': 2, 'colorado': 2, 'tennessee': 2, 'AL': 2, 'Florida, USA': 2, 'Illinois, USA': 2, 'north carolina': 2, 'NEW YORK': 2, 'indiana': 2, 'Maryland, USA': 2, 'Oregon, USA': 2, 'Pennsylvania, USA': 2, 'SC': 2, 'Arkansas': 2, 'new york': 2, 'nc': 2, 'KY': 2, 'Montana': 2, 'NJ, USA': 2, 'minnesota': 2, 'tx': 2, 'Maine': 2, 'CO': 2, 'WISCONSIN': 2, 'AR, USA': 2, 'CT, USA': 2, 'FLORIDA': 2, 'LA': 2, 'Michigan USA': 2, 'MI': 2, 'kentucky': 2, 'VA': 2, 'nj': 2, 'Washington State, USA': 2, 'CA, USA': 2, 'wisconsin': 1, 'MO USA': 1, 'Utah, United States of America': 1, 'denver, colorado': 1, 'Indiana, USA': 1, 'idaho, usa': 1, 'FLORIDA, USA': 1, 'KS, USA': 1, 'Rogers, Arkansas': 1, 'va, usa': 1, 'Decatur, AL': 1, 'Georgia, USA': 1, 'tennesee': 1, 'canada': 1, 'Lousiana': 1, 'Vermont, United States': 1, 'Singapore': 1, 'ma usa': 1, 'Cheshire High School, Cheshire, Connecticut': 1, 'MO': 1, 'utah': 1, 'Lakewood, CO': 1, 'Hawaii': 1, 'Pennsylvania, United States': 1, 'Rhode Island': 1, 'Lakeland FL': 1, 'SC,  US': 1, 'Tampa, FL': 1, 'Santa Clara': 1, 'boston massachusetts': 1, 'Cincinnati, Ohio': 1, 'los angeles, ca': 1, 'WA State': 1, 'Atlanta, GA': 1, 'NC, USA': 1, 'Buenos Aires, Argentina': 1, 'US, NY': 1, 'sc': 1, 'Delaware': 1, 'Iowa, United States': 1, 'NEW CASTLE': 1, 'louisville ky': 1, 'SOUTH CAROLINA': 1, 'Henderson, NV': 1, 'NORTH CAROLINA': 1, 'Philippines': 1, 'Carson City': 1, 'Massachusettes': 1, 'OKlahoma': 1, 'India': 1, 'Henrico, VA, USA': 1, 'Orange County, California': 1, 'ny': 1, 'KY, USA': 1, 'VA, USA': 1, 'Utah, USA': 1, 'Paradise, California': 1, 'Pennsyvania': 1, 'Bristol, Connecticut': 1, 'illinois': 1, 'Georgia, US': 1, 'missouri': 1, 'Caflifornia': 1, 'Tennessee, USA': 1, 'AZ': 1, 'grosse pointe, michigan, united states': 1, 'usa Fla': 1, 'Dalton High, Dalton, Ga.': 1, 'port huron, michigan': 1, 'Franklin, NC': 1, 'Pearl City, HI': 1, 'Des Moines, Iowa': 1, 'St. Thomas, USVI': 1, 'lake butler florida': 1, 'hawaii': 1, 'Norfolk, VA': 1, 'Duval': 1, 'Malaysia': 1, 'md': 1, 'SD': 1, 'Germany': 1, 'richmond, IN': 1, 'Michigan (US)': 1, 'maine': 1, 'North Carolina, United States': 1, 'Arkansas, USA': 1, 'nebraska': 1, 'Cincinnati Ohio': 1, 'Alaska': 1, 'New York, USA': 1, 'texas,usa': 1, 'MA': 1, 'Livingston, Tx': 1, 'Hampshire High, Hampshire, Illinois': 1, 'United States, MN': 1, 'tennessee, usa': 1, 'California, United States': 1, 'New York Ciry': 1, 'Columbus, Ohio': 1, 'Ocala, FL': 1, 'Montgomery County, PA': 1, 'millinocket': 1, 'Framingham': 1, 'New York City': 1, 'North Florida': 1, 'youngstown oh': 1, 'Walla Walla, WA': 1, 'OH': 1, 'Flushing, Michigan': 1, 'Iowa  United States': 1, 'Slovakia': 1, 'Aruba': 1, 'Worthington': 1, 'RI': 1, 'Converse': 1, 'New York USA': 1, 'MICHIGAN': 1, 'Westfield,NJ': 1, 'Independence, MO USA': 1, 'multiple locations': 1, 'Chicago': 1, 'WI, USA': 1, 'Quartz Hill': 1, 'Whitwell, TN': 1, 'sheboygan, wi': 1, 'America': 1, 'idaho': 1, 'maryland, usa': 1, 'Michigan, US': 1, 'modern college,India': 1, 'Cathlamet, WA': 1, 'Plant City, Florida': 1, 'United States, Illinois': 1, 'Columbia, SC': 1, 'New  Jersey USA': 1, 'New York, US': 1, 'Maine, USA': 1, 'united states': 1, 'New York State': 1, 'Louisiana, USA': 1, 'CT': 1, 'Alabama, USA': 1, 'ga': 1, 'ILLINOIS': 1, 'arizona': 1, 'nyc, ny': 1, 'michigan, usa': 1, 'el paso, tx': 1, 'californi': 1, 'kansas': 1, 'Miami': 1, 'ga. usa': 1, 'Pittsburgh, Pennsylvania': 1, 'W.V': 1, 'Naugatuck WV': 1, 'SouthRidge High School': 1, 'Pennsylvania, US': 1, 'Dexter, Maine USA': 1, 'louisiana': 1, 'rhode island': 1, 'Arizona, USA': 1, 'illinois, usa': 1, 'MA, USA': 1, 'Vermont USA': 1, 'Kodiak, Alaska, USA': 1, 'Ma': 1, 'Lithonia': 1, 'danville': 1, 'Chester VA': 1, 'Malverne NY': 1, 'Washington DC': 1, 'dothan': 1, 'fl': 1, 'virginia, u.s.a.': 1, '-': 1, 'Missouri, United States': 1, 'Mustang, OK': 1, 'IN': 1, 'New York, United States': 1, 'LAKE MARY, FL': 1, 'Wheeling, West V,irginia United States': 1, 'Waterford, MI': 1, 'california usa': 1, 'St.Pete Florida': 1, 'mo': 1, 'DILLSBURG PA': 1, 'ga/us': 1, 'Waynesboro VA': 1, 'South Carolina USA': 1, 'Troy, Montana': 1, 'South Dakota': 1, 'MI and TN': 1, 'Houston Texas': 1, 'Minnesota USA': 1, 'connecticut usa': 1, 'Cabot, Arkansas': 1, 'Springfield, MA': 1, 'Richmond VA': 1, 'Michigan, United States': 1, 'INDIANA': 1, 'virginia': 1, 'farmington. michigan': 1, 'oklahoma': 1, 'ft lauderdale': 1, 'New Zealand': 1, 'Dallas, Tx, USA': 1, 'Maryland USA': 1, 'CALIFORNIA': 1, 'Puerto Rico': 1, 'Pittsburgh': 1, 'philadelphia, pa': 1, 'lexington, sc': 1, 'Vermont': 1, 'North Carolina USA': 1, 'iowa': 1, 'United States of America': 1, 'georgia': 1, 'Michigan. Senior year in Indiana through correspondence (still lived in Michigan)': 1, 'Uncasville, CT': 1, 'NY USA': 1, 'New  York': 1, 'Muskegon Heights, Michigan': 1, 'Los Angeles, CA': 1, 'Army base Pisa Italy, Livorno Unit highschool': 1, 'Live Oak FL': 1, 'oh': 1, 'ndia': 1, 'Norway': 1, 'Queens, N.Y.': 1, 'seneca high': 1, 'Hoffman Estates, IL': 1, 'Eden, NC': 1, 'massachusetts': 1, 'Orange, CA': 1, 'HI': 1, 'meadowbrook highschool': 1, 'Orange, Tx': 1, 'Spring Mills Pa.': 1, 'San Diego, CA, USA': 1, 'Maryland/USA': 1, 'va': 1, 'Yakima Wa': 1, 'TEXAS': 1, 'USA, New Jersey': 1, 'Rochester, NY': 1, 'Paramus, NJ': 1, 'Florida ,USA': 1, 'Rock Island, IL': 1, 'Chesterville, Ontario, Canada': 1})\n"
     ]
    }
   ],
   "source": [
    "print(Counter(df['state'].T.to_numpy('str').tolist()))"
   ]
  },
  {
   "cell_type": "code",
   "execution_count": null,
   "id": "d70faa21-41f9-45e8-bb0e-6dcc0aec99a1",
   "metadata": {},
   "outputs": [],
   "source": []
  }
 ],
 "metadata": {
  "kernelspec": {
   "display_name": "Python 3",
   "language": "python",
   "name": "python3"
  },
  "language_info": {
   "codemirror_mode": {
    "name": "ipython",
    "version": 3
   },
   "file_extension": ".py",
   "mimetype": "text/x-python",
   "name": "python",
   "nbconvert_exporter": "python",
   "pygments_lexer": "ipython3",
   "version": "3.8.8"
  }
 },
 "nbformat": 4,
 "nbformat_minor": 5
}
