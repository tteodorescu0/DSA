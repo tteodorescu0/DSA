{
 "cells": [
  {
   "cell_type": "markdown",
   "metadata": {},
   "source": [
    "# Data Science Academy / Week 3 Homework\n",
    "# Titus Teodorescu"
   ]
  },
  {
   "cell_type": "markdown",
   "metadata": {},
   "source": [
    "## Part 1: Parse the JSON file to a pandas dataframe"
   ]
  },
  {
   "cell_type": "code",
   "execution_count": 4,
   "metadata": {},
   "outputs": [
    {
     "name": "stdout",
     "output_type": "stream",
     "text": [
      "peak memory: 103.40 MiB, increment: 0.02 MiB\n"
     ]
    }
   ],
   "source": [
    "# load packages\n",
    "import numpy as np\n",
    "import pandas as pd\n",
    "import json\n",
    "from datetime import datetime\n",
    "# load json file\n",
    "with open('../data_for_week3/homework/week3_homework.json') as f:\n",
    "    txt = json.load(f)\n",
    "# create df with eventSequence data\n",
    "df = pd.DataFrame(txt['gameLog'][0]['eventSequence'])\n",
    "# add a column for sessionID \n",
    "df['sessionID']=[int(txt['gameLog'][0]['sessionID'])] * len(txt['gameLog'][0]['eventSequence'])\n",
    "# add a column for teamID \n",
    "df['teamID']=[txt['gameLog'][0]['teamID']] * len(txt['gameLog'][0]['eventSequence'])\n",
    "# set the type of selected columns to str\n",
    "df[['eventName', 'eventBy', 'eventTo', 'eventResult', 'eventLocation', 'teamID']] = df[['eventName', 'eventBy', 'eventTo', 'eventResult', 'eventLocation', 'teamID']].astype(\"string\")\n",
    "# set the type of selected columns to datetime\n",
    "df[['eventStartTime', 'eventEndTime']] = df[['eventStartTime', 'eventEndTime']].apply(pd.to_datetime)"
   ]
  },
  {
   "cell_type": "code",
   "execution_count": 2,
   "metadata": {},
   "outputs": [
    {
     "data": {
      "text/plain": [
       "eventName                      string\n",
       "eventStartTime    datetime64[ns, UTC]\n",
       "eventEndTime      datetime64[ns, UTC]\n",
       "eventBy                        string\n",
       "eventTo                        string\n",
       "eventResult                    string\n",
       "eventLocation                  string\n",
       "eventExtData                   object\n",
       "sessionID                       int64\n",
       "teamID                         string\n",
       "dtype: object"
      ]
     },
     "execution_count": 2,
     "metadata": {},
     "output_type": "execute_result"
    }
   ],
   "source": [
    "# show types of columns\n",
    "df.dtypes"
   ]
  },
  {
   "cell_type": "code",
   "execution_count": 3,
   "metadata": {},
   "outputs": [
    {
     "data": {
      "text/html": [
       "<div>\n",
       "<style scoped>\n",
       "    .dataframe tbody tr th:only-of-type {\n",
       "        vertical-align: middle;\n",
       "    }\n",
       "\n",
       "    .dataframe tbody tr th {\n",
       "        vertical-align: top;\n",
       "    }\n",
       "\n",
       "    .dataframe thead th {\n",
       "        text-align: right;\n",
       "    }\n",
       "</style>\n",
       "<table border=\"1\" class=\"dataframe\">\n",
       "  <thead>\n",
       "    <tr style=\"text-align: right;\">\n",
       "      <th></th>\n",
       "      <th>eventName</th>\n",
       "      <th>eventStartTime</th>\n",
       "      <th>eventEndTime</th>\n",
       "      <th>eventBy</th>\n",
       "      <th>eventTo</th>\n",
       "      <th>eventResult</th>\n",
       "      <th>eventLocation</th>\n",
       "      <th>eventExtData</th>\n",
       "      <th>sessionID</th>\n",
       "      <th>teamID</th>\n",
       "    </tr>\n",
       "  </thead>\n",
       "  <tbody>\n",
       "    <tr>\n",
       "      <th>0</th>\n",
       "      <td>chat</td>\n",
       "      <td>2019-11-06 14:18:31+00:00</td>\n",
       "      <td>2019-11-06 14:18:31+00:00</td>\n",
       "      <td>jiangang</td>\n",
       "      <td>others</td>\n",
       "      <td>hi</td>\n",
       "      <td>slide1-step0</td>\n",
       "      <td>{}</td>\n",
       "      <td>7369</td>\n",
       "      <td>hao_jiangang</td>\n",
       "    </tr>\n",
       "    <tr>\n",
       "      <th>1</th>\n",
       "      <td>question</td>\n",
       "      <td>2019-11-06 14:18:42+00:00</td>\n",
       "      <td>2019-11-06 14:18:42+00:00</td>\n",
       "      <td>jiangang</td>\n",
       "      <td>cbal-1-0</td>\n",
       "      <td>1</td>\n",
       "      <td>slide2-step0</td>\n",
       "      <td>{}</td>\n",
       "      <td>7369</td>\n",
       "      <td>hao_jiangang</td>\n",
       "    </tr>\n",
       "    <tr>\n",
       "      <th>2</th>\n",
       "      <td>question</td>\n",
       "      <td>2019-11-06 14:18:42+00:00</td>\n",
       "      <td>2019-11-06 14:18:42+00:00</td>\n",
       "      <td>jiangang</td>\n",
       "      <td>cbal-1-1</td>\n",
       "      <td>dfsa</td>\n",
       "      <td>slide2-step0</td>\n",
       "      <td>{}</td>\n",
       "      <td>7369</td>\n",
       "      <td>hao_jiangang</td>\n",
       "    </tr>\n",
       "    <tr>\n",
       "      <th>3</th>\n",
       "      <td>chat</td>\n",
       "      <td>2019-11-06 14:18:44+00:00</td>\n",
       "      <td>2019-11-06 14:18:44+00:00</td>\n",
       "      <td>jiangang</td>\n",
       "      <td>others</td>\n",
       "      <td>ok</td>\n",
       "      <td>slide2-step0</td>\n",
       "      <td>{}</td>\n",
       "      <td>7369</td>\n",
       "      <td>hao_jiangang</td>\n",
       "    </tr>\n",
       "    <tr>\n",
       "      <th>4</th>\n",
       "      <td>chat</td>\n",
       "      <td>2019-11-06 14:18:46+00:00</td>\n",
       "      <td>2019-11-06 14:18:46+00:00</td>\n",
       "      <td>jiangang</td>\n",
       "      <td>others</td>\n",
       "      <td>how are you</td>\n",
       "      <td>slide2-step0</td>\n",
       "      <td>{}</td>\n",
       "      <td>7369</td>\n",
       "      <td>hao_jiangang</td>\n",
       "    </tr>\n",
       "  </tbody>\n",
       "</table>\n",
       "</div>"
      ],
      "text/plain": [
       "  eventName            eventStartTime              eventEndTime   eventBy  \\\n",
       "0      chat 2019-11-06 14:18:31+00:00 2019-11-06 14:18:31+00:00  jiangang   \n",
       "1  question 2019-11-06 14:18:42+00:00 2019-11-06 14:18:42+00:00  jiangang   \n",
       "2  question 2019-11-06 14:18:42+00:00 2019-11-06 14:18:42+00:00  jiangang   \n",
       "3      chat 2019-11-06 14:18:44+00:00 2019-11-06 14:18:44+00:00  jiangang   \n",
       "4      chat 2019-11-06 14:18:46+00:00 2019-11-06 14:18:46+00:00  jiangang   \n",
       "\n",
       "    eventTo  eventResult eventLocation eventExtData  sessionID        teamID  \n",
       "0    others           hi  slide1-step0           {}       7369  hao_jiangang  \n",
       "1  cbal-1-0            1  slide2-step0           {}       7369  hao_jiangang  \n",
       "2  cbal-1-1         dfsa  slide2-step0           {}       7369  hao_jiangang  \n",
       "3    others           ok  slide2-step0           {}       7369  hao_jiangang  \n",
       "4    others  how are you  slide2-step0           {}       7369  hao_jiangang  "
      ]
     },
     "execution_count": 3,
     "metadata": {},
     "output_type": "execute_result"
    }
   ],
   "source": [
    "# display the first 5 rows\n",
    "df[:5]"
   ]
  },
  {
   "cell_type": "markdown",
   "metadata": {},
   "source": [
    "## Part 2: Convert the XML file to a pandas dataframe and save it as a csv file."
   ]
  },
  {
   "cell_type": "markdown",
   "metadata": {},
   "source": [
    "### Approach #1: using pandas read_xml call"
   ]
  },
  {
   "cell_type": "code",
   "execution_count": 66,
   "metadata": {},
   "outputs": [],
   "source": [
    "# you need pandas 1.3.0 or higher in order to use read_xml\n",
    "# I was not able to install pandas 1.3.0 in anaconda, but I installed it outside anaconda\n",
    "\n",
    "with open('../data_for_week3/homework/week3_homework.xml') as f:\n",
    "    txt = f.read()\n",
    "# create df with eventSequence data\n",
    "# you need pandas 1.3.0 to call read_xml; The line below will fail in anaconda if you don't have pandas 1.3.0 or higher installed\n",
    "df = pd.read_xml(txt, xpath=\"//event\")\n",
    "df_2 = pd.read_xml(txt, xpath=\"/gameLog/session\")\n",
    "\n",
    "# add a column for sessionID\n",
    "# df_2['sessionID'][0] gives the value of the sessionID\n",
    "# df.shape[0] gives the number of rows in df\n",
    "df['sessionID']=[int(df_2['sessionID'][0])] * df.shape[0]\n",
    "# add a column for teamID\n",
    "df['teamID']=[str(df_2['teamID'][0])] * df.shape[0]\n",
    "# set the type of selected columns to str\n",
    "df[['eventName', 'eventBy', 'eventTo', 'eventResult', 'eventLocation', 'teamID']] = df[['eventName', 'eventBy', 'eventTo', 'eventResult', 'eventLocation', 'teamID']].astype(\"string\")\n",
    "# set the type of selected columns to datetime\n",
    "df[['eventStartTime', 'eventEndTime']] = df[['eventStartTime', 'eventEndTime']].apply(pd.to_datetime)\n",
    "# show types of columns\n",
    "print(df.dtypes)\n",
    "# display the first 5 rows\n",
    "print(df[:5])\n",
    "# save df to a csv file\n",
    "with open('approach_01.csv', mode=\"w\") as f:\n",
    "    f.write(df.to_csv(index=False))"
   ]
  },
  {
   "cell_type": "markdown",
   "metadata": {},
   "source": [
    "### Approach #2: using the XML package"
   ]
  },
  {
   "cell_type": "code",
   "execution_count": 4,
   "metadata": {},
   "outputs": [],
   "source": [
    "# load package\n",
    "import xml.etree.ElementTree as et\n",
    "# parse xml file\n",
    "xml_file_name = '../data_for_week3/homework/week3_homework.xml'\n",
    "tree = et.parse(xml_file_name)\n",
    "root = tree.getroot()\n",
    "# set up the columns\n",
    "eventName = list(map(lambda x: x.text, root.findall(\"./session/eventSequence/event/eventName\")))\n",
    "eventStartTime = list(map(lambda x: x.text, root.findall(\"./session/eventSequence/event/eventStartTime\")))\n",
    "eventEndTime = list(map(lambda x: x.text, root.findall(\"./session/eventSequence/event/eventEndTime\")))\n",
    "eventBy = list(map(lambda x: x.text, root.findall(\"./session/eventSequence/event/eventBy\")))\n",
    "eventTo = list(map(lambda x: x.text, root.findall(\"./session/eventSequence/event/eventTo\")))\n",
    "eventResult = list(map(lambda x: x.text, root.findall(\"./session/eventSequence/event/eventResult\")))\n",
    "eventLocation = list(map(lambda x: x.text, root.findall(\"./session/eventSequence/event/eventLocation\")))\n",
    "sessionID = list(map(lambda x: x.text, root.findall(\"./session/sessionID\"))) * len(eventName)\n",
    "teamID = list(map(lambda x: x.text, root.findall(\"./session/teamID\"))) * len(eventName)\n",
    "# initialize data of lists.\n",
    "data = {'eventName':eventName,\n",
    "        'eventStartTime':eventStartTime,\n",
    "        'eventEndTime':eventEndTime,\n",
    "        'eventBy':eventBy,\n",
    "        'eventTo':eventTo,\n",
    "        'eventResult':eventResult,\n",
    "        'eventLocation':eventLocation,\n",
    "        'sessionID':sessionID,\n",
    "        'teamID':teamID}\n",
    "# ceate DataFrame\n",
    "df = pd.DataFrame(data)\n",
    "# set the type of selected columns to str\n",
    "df[['eventName', 'eventBy', 'eventTo', 'eventResult', 'eventLocation', 'teamID']] = df[['eventName', 'eventBy', 'eventTo', 'eventResult', 'eventLocation', 'teamID']].astype(\"string\")\n",
    "# set the type of selected columns to datetime\n",
    "df[['eventStartTime', 'eventEndTime']] = df[['eventStartTime', 'eventEndTime']].apply(pd.to_datetime)\n",
    "# show types of columns\n",
    "# print(df.dtypes)\n",
    "# display the first 5 rows\n",
    "# print(df[:5])\n",
    "# save df to a csv file\n",
    "with open('approach_02.csv', mode=\"w\") as f:\n",
    "    f.write(df.to_csv(index=False))"
   ]
  },
  {
   "cell_type": "markdown",
   "metadata": {},
   "source": [
    "### Approach #3: using xslt in lxml"
   ]
  },
  {
   "cell_type": "code",
   "execution_count": 5,
   "metadata": {},
   "outputs": [],
   "source": [
    "# create the xslt transformation\n",
    "XSL= '''\n",
    "<xsl:stylesheet version=\"1.0\"\n",
    "                xmlns:xsl=\"http://www.w3.org/1999/XSL/Transform\">\n",
    "\t<xsl:output method=\"text\"\n",
    "\t            omit-xml-declaration=\"yes\"/>\n",
    "\t<xsl:variable name=\"sessionID\"\n",
    "\t              select=\"/gameLog/session/sessionID\"/>\n",
    "\t<xsl:variable name=\"teamID\"\n",
    "\t              select=\"/gameLog/session/teamID\"/>\n",
    "\t<xsl:template match=\"/\">\n",
    "\t\t<xsl:text>eventName,eventStartTime,eventEndTime,eventBy,eventTo,eventResult,eventLocation,sessionID,teamID&#xa;</xsl:text>\n",
    "\t\t<xsl:for-each select=\"/gameLog/session/eventSequence/event\">\n",
    "\t\t\t<xsl:value-of select=\"eventName\"/>\n",
    "\t\t\t<xsl:text>,</xsl:text>\n",
    "\t\t\t<xsl:value-of select=\"eventStartTime\"/>\n",
    "\t\t\t<xsl:text>,</xsl:text>\n",
    "\t\t\t<xsl:value-of select=\"eventEndTime\"/>\n",
    "\t\t\t<xsl:text>,</xsl:text>\n",
    "\t\t\t<xsl:value-of select=\"eventBy\"/>\n",
    "\t\t\t<xsl:text>,</xsl:text>\n",
    "\t\t\t<xsl:value-of select=\"eventTo\"/>\n",
    "\t\t\t<xsl:text>,</xsl:text>\n",
    "\t\t\t<xsl:value-of select=\"eventResult\"/>\n",
    "\t\t\t<xsl:text>,</xsl:text>\n",
    "\t\t\t<xsl:value-of select=\"eventLocation\"/>\n",
    "\t\t\t<xsl:text>,</xsl:text>\n",
    "\t\t\t<xsl:value-of select=\"$sessionID\"/>\n",
    "\t\t\t<xsl:text>,</xsl:text>\n",
    "\t\t\t<xsl:value-of select=\"$teamID\"/>\n",
    "\t\t\t<xsl:text>&#xa;</xsl:text>\n",
    "\t\t</xsl:for-each>\n",
    "\t</xsl:template>\n",
    "</xsl:stylesheet>\n",
    "'''"
   ]
  },
  {
   "cell_type": "code",
   "execution_count": 6,
   "metadata": {},
   "outputs": [],
   "source": [
    "from lxml import etree\n",
    "# load xml file\n",
    "dom = etree.parse('../data_for_week3/homework/week3_homework.xml')\n",
    "# load xslt file\n",
    "transform = etree.XSLT(etree.fromstring(XSL))\n",
    "# apply xslt transformation to the xml file and save it to a csv file\n",
    "# s = str(transform(dom))\n",
    "# line = s.replace(‘\\n’,’’)\n",
    "# line.splitlines()\n",
    "# create the csv file using the xslt transformation\n",
    "with open('approach_03.csv', mode=\"w\") as f:\n",
    "    f.write(str(transform(dom)))"
   ]
  },
  {
   "cell_type": "code",
   "execution_count": 7,
   "metadata": {},
   "outputs": [
    {
     "name": "stdout",
     "output_type": "stream",
     "text": [
      "eventName                      string\n",
      "eventStartTime    datetime64[ns, UTC]\n",
      "eventEndTime      datetime64[ns, UTC]\n",
      "eventBy                        string\n",
      "eventTo                        string\n",
      "eventResult                    string\n",
      "eventLocation                  string\n",
      "sessionID                       int64\n",
      "teamID                         string\n",
      "dtype: object\n",
      "  eventName            eventStartTime              eventEndTime   eventBy  \\\n",
      "0      chat 2019-11-06 14:18:31+00:00 2019-11-06 14:18:31+00:00  jiangang   \n",
      "1  question 2019-11-06 14:18:42+00:00 2019-11-06 14:18:42+00:00  jiangang   \n",
      "2  question 2019-11-06 14:18:42+00:00 2019-11-06 14:18:42+00:00  jiangang   \n",
      "3      chat 2019-11-06 14:18:44+00:00 2019-11-06 14:18:44+00:00  jiangang   \n",
      "4      chat 2019-11-06 14:18:46+00:00 2019-11-06 14:18:46+00:00  jiangang   \n",
      "\n",
      "    eventTo  eventResult eventLocation  sessionID        teamID  \n",
      "0    others           hi  slide1-step0       7369  hao_jiangang  \n",
      "1  cbal-1-0            1  slide2-step0       7369  hao_jiangang  \n",
      "2  cbal-1-1         dfsa  slide2-step0       7369  hao_jiangang  \n",
      "3    others           ok  slide2-step0       7369  hao_jiangang  \n",
      "4    others  how are you  slide2-step0       7369  hao_jiangang  \n"
     ]
    }
   ],
   "source": [
    "# create the data frame from the csv file\n",
    "df = pd.read_csv(\"approach_03.csv\")\n",
    "# set the type of selected columns to str\n",
    "df[['eventName', 'eventBy', 'eventTo', 'eventResult', 'eventLocation', 'teamID']] = df[['eventName', 'eventBy', 'eventTo', 'eventResult', 'eventLocation', 'teamID']].astype(\"string\")\n",
    "# set the type of selected columns to datetime\n",
    "df[['eventStartTime', 'eventEndTime']] = df[['eventStartTime', 'eventEndTime']].apply(pd.to_datetime)\n",
    "# show types of columns\n",
    "print(df.dtypes)\n",
    "# display the first 5 rows\n",
    "print(df[:5])"
   ]
  },
  {
   "cell_type": "code",
   "execution_count": null,
   "metadata": {},
   "outputs": [],
   "source": []
  }
 ],
 "metadata": {
  "kernelspec": {
   "display_name": "Python 3",
   "language": "python",
   "name": "python3"
  },
  "language_info": {
   "codemirror_mode": {
    "name": "ipython",
    "version": 3
   },
   "file_extension": ".py",
   "mimetype": "text/x-python",
   "name": "python",
   "nbconvert_exporter": "python",
   "pygments_lexer": "ipython3",
   "version": "3.8.8"
  }
 },
 "nbformat": 4,
 "nbformat_minor": 4
}
