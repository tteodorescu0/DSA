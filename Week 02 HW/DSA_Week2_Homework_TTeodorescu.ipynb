{
 "cells": [
  {
   "cell_type": "code",
   "execution_count": 1,
   "metadata": {},
   "outputs": [],
   "source": [
    "import numpy as np"
   ]
  },
  {
   "cell_type": "code",
   "execution_count": 2,
   "metadata": {},
   "outputs": [
    {
     "name": "stdout",
     "output_type": "stream",
     "text": [
      "[0 0 0 0 1 0 0 0 0 0]\n",
      "[0 0 0 0 1 0 0 0 0 0]\n"
     ]
    }
   ],
   "source": [
    "#1. Create a null array of size 10 but the fifth value which is 1\n",
    "\n",
    "#one way\n",
    "v1 = np.array([0]*4+[1]+[0]*5)\n",
    "print(v1)\n",
    "\n",
    "#another way\n",
    "v2= np.zeros(shape=(10,), dtype=int)\n",
    "v2[4]=1\n",
    "print(v2)"
   ]
  },
  {
   "cell_type": "code",
   "execution_count": 3,
   "metadata": {},
   "outputs": [
    {
     "data": {
      "text/plain": [
       "array([0, 0, 0, 0, 0, 1, 0, 0, 0, 0])"
      ]
     },
     "execution_count": 3,
     "metadata": {},
     "output_type": "execute_result"
    }
   ],
   "source": [
    "#2. Reverse a above created array (first element becomes last)\n",
    "\n",
    "v1[::-1]"
   ]
  },
  {
   "cell_type": "code",
   "execution_count": 4,
   "metadata": {},
   "outputs": [
    {
     "data": {
      "text/plain": [
       "array([[0, 1, 2],\n",
       "       [3, 4, 5],\n",
       "       [6, 7, 8]])"
      ]
     },
     "execution_count": 4,
     "metadata": {},
     "output_type": "execute_result"
    }
   ],
   "source": [
    "#3. Create a 3x3 matrix with values ranging from 0 to 8\n",
    "\n",
    "np.arange(9).reshape(3,3)"
   ]
  },
  {
   "cell_type": "code",
   "execution_count": 5,
   "metadata": {},
   "outputs": [
    {
     "data": {
      "text/plain": [
       "[0, 1, 4]"
      ]
     },
     "execution_count": 5,
     "metadata": {},
     "output_type": "execute_result"
    }
   ],
   "source": [
    "#4. Find indices of non-zero elements from [1,2,0,0,4,0]\n",
    "\n",
    "w = [1,2,0,0,4,0]\n",
    "non_zero_index_list = [] # the list that contains the indices in w that have non-zero values\n",
    "for i in range(len(w)):\n",
    "    if w[i] != 0:\n",
    "        non_zero_index_list.append(i)\n",
    "non_zero_index_list"
   ]
  },
  {
   "cell_type": "code",
   "execution_count": 6,
   "metadata": {},
   "outputs": [
    {
     "data": {
      "text/plain": [
       "array([[[0.34203538, 0.93930857, 0.03110791],\n",
       "        [0.40206938, 0.5141383 , 0.79342071],\n",
       "        [0.16505226, 0.98776339, 0.85322947]],\n",
       "\n",
       "       [[0.05616469, 0.1918185 , 0.58427478],\n",
       "        [0.72421116, 0.42344424, 0.46957196],\n",
       "        [0.99137007, 0.8267297 , 0.51796517]],\n",
       "\n",
       "       [[0.4418698 , 0.94328506, 0.04131554],\n",
       "        [0.9488572 , 0.93475477, 0.06675357],\n",
       "        [0.35910826, 0.49945405, 0.84540754]]])"
      ]
     },
     "execution_count": 6,
     "metadata": {},
     "output_type": "execute_result"
    }
   ],
   "source": [
    "#5. Create a 3x3x3 array with random values\n",
    "\n",
    "np.random.random((3, 3, 3)) # 3x3x3 matrix with random values"
   ]
  },
  {
   "cell_type": "code",
   "execution_count": 7,
   "metadata": {},
   "outputs": [
    {
     "name": "stdout",
     "output_type": "stream",
     "text": [
      "Min value is 0.004207029594313183\n",
      "Max value is 0.997952723208971\n"
     ]
    }
   ],
   "source": [
    "#6. Create a 10x10 array with random values and find the minimum and maximum values\n",
    "\n",
    "temp = np.random.random((10, 10))  # 10x10 matrix with random values\n",
    "#print(temp)\n",
    "print(f\"Min value is {np.min(temp)}\")\n",
    "print(f\"Max value is {np.max(temp)}\")\n"
   ]
  },
  {
   "cell_type": "code",
   "execution_count": 8,
   "metadata": {},
   "outputs": [
    {
     "name": "stdout",
     "output_type": "stream",
     "text": [
      "Mean value is 0.6058872601087042\n"
     ]
    }
   ],
   "source": [
    "#7. Create a random vector of size 30 and find the mean value\n",
    "\n",
    "temp = np.random.random((30,))\n",
    "#print(temp)\n",
    "print(f\"Mean value is {np.mean(temp)}\")"
   ]
  },
  {
   "cell_type": "code",
   "execution_count": 9,
   "metadata": {},
   "outputs": [
    {
     "data": {
      "text/plain": [
       "array([[1, 1, 1, 1, 1, 1],\n",
       "       [1, 0, 0, 0, 0, 1],\n",
       "       [1, 0, 0, 0, 0, 1],\n",
       "       [1, 0, 0, 0, 0, 1],\n",
       "       [1, 1, 1, 1, 1, 1]])"
      ]
     },
     "execution_count": 9,
     "metadata": {},
     "output_type": "execute_result"
    }
   ],
   "source": [
    "#8. Create a 2d array with 1 on the border and 0 inside\n",
    "\n",
    "num_rows = 5 # number of rows\n",
    "num_cols = 6 # number of columns\n",
    "temp = np.zeros(shape=(num_rows,num_cols), dtype=int) # creates a matrix with zeros everywhere\n",
    "temp[0,] = np.ones(shape=(num_cols,), dtype=int) # writes ones to first row\n",
    "temp[num_rows - 1,] = np.ones(shape=(num_cols,), dtype=int) # writes ones to last row\n",
    "temp[:,0] = np.transpose(np.ones(shape=(num_rows,), dtype=int)) # writes ones to first column\n",
    "temp[:,num_cols - 1] = np.transpose(np.ones(shape=(num_rows,), dtype=int)) # writes ones to first column\n",
    "temp"
   ]
  },
  {
   "cell_type": "code",
   "execution_count": 10,
   "metadata": {},
   "outputs": [
    {
     "name": "stdout",
     "output_type": "stream",
     "text": [
      "[[1 9 7]\n",
      " [8 3 9]\n",
      " [4 4 5]\n",
      " [2 2 6]\n",
      " [5 0 0]]\n",
      "[[1 9]\n",
      " [0 6]\n",
      " [8 2]]\n",
      "[[ 57  77]\n",
      " [ 80 108]\n",
      " [ 44  70]\n",
      " [ 50  42]\n",
      " [  5  45]]\n"
     ]
    }
   ],
   "source": [
    "#9. Multiply a 5x3 matrix by a 3x2 matrix (real matrix product)\n",
    "\n",
    "# A is the 5x3 matrix\n",
    "A = np.random.randint(0,10,(5,3))\n",
    "print(A)\n",
    "# B is the 3x2 matrix\n",
    "B = np.random.randint(0,10,(3,2))\n",
    "print(B)\n",
    "# C is the matrix product\n",
    "C = np.matmul(A, B)\n",
    "print(C)"
   ]
  },
  {
   "cell_type": "code",
   "execution_count": 11,
   "metadata": {},
   "outputs": [
    {
     "name": "stdout",
     "output_type": "stream",
     "text": [
      "[[69.08724475 33.28063532 58.90992374]\n",
      " [ 7.87117814 51.41617499 67.71383985]]\n"
     ]
    },
    {
     "data": {
      "text/plain": [
       "array([[69, 33, 58],\n",
       "       [ 7, 51, 67]])"
      ]
     },
     "execution_count": 11,
     "metadata": {},
     "output_type": "execute_result"
    }
   ],
   "source": [
    "#10. Extract the integer part of a random array\n",
    "\n",
    "temp = np.random.random(size=(2,3)) * 100 # the random array\n",
    "print(temp)\n",
    "f = lambda x: x//1\n",
    "np.array(f(temp), dtype=int)"
   ]
  },
  {
   "cell_type": "code",
   "execution_count": 12,
   "metadata": {},
   "outputs": [
    {
     "data": {
      "text/plain": [
       "array([[1, 3, 1, 1, 0],\n",
       "       [4, 1, 3, 4, 2],\n",
       "       [4, 4, 3, 1, 4],\n",
       "       [4, 3, 3, 0, 4],\n",
       "       [0, 4, 4, 2, 0]])"
      ]
     },
     "execution_count": 12,
     "metadata": {},
     "output_type": "execute_result"
    }
   ],
   "source": [
    "#11. Create a 5x5 matrix with row values ranging from 0 to 4\n",
    "\n",
    "# \"row values\" is confusing. Shuld \"row values\" be just \"values\"?\n",
    "np.random.randint(low=0, high=5, size=(5,5))"
   ]
  },
  {
   "cell_type": "code",
   "execution_count": 13,
   "metadata": {},
   "outputs": [
    {
     "data": {
      "text/plain": [
       "array([0.10483717, 0.16444101, 0.21967765, 0.22308467, 0.25774938,\n",
       "       0.4594553 , 0.50821601, 0.7212689 , 0.78746071, 0.81878775])"
      ]
     },
     "execution_count": 13,
     "metadata": {},
     "output_type": "execute_result"
    }
   ],
   "source": [
    "#12.  Create a random vector of size 10 and sort it\n",
    "\n",
    "temp = np.random.random(10) # the random vector \n",
    "np.sort(temp)               # the sorted vector"
   ]
  },
  {
   "cell_type": "code",
   "execution_count": 14,
   "metadata": {},
   "outputs": [
    {
     "name": "stdout",
     "output_type": "stream",
     "text": [
      "[0 1]\n",
      "[1 0]\n",
      "False\n"
     ]
    }
   ],
   "source": [
    "#13. Consider two random array A anb B, check if they are equal.\n",
    "\n",
    "num_elements= 2\n",
    "A = np.random.randint(low=0, high=2, size=(num_elements,))\n",
    "print(A)\n",
    "B = np.random.randint(low=0, high=2, size=(num_elements,))\n",
    "print(B)\n",
    "print((A==B).all()) # returns True if A==B and False otherwise\n"
   ]
  },
  {
   "cell_type": "code",
   "execution_count": 15,
   "metadata": {},
   "outputs": [
    {
     "name": "stdout",
     "output_type": "stream",
     "text": [
      "[[0 0 1 0 1]\n",
      " [1 1 1 0 1]]\n",
      "[[0]\n",
      " [0]]\n",
      "The number of null columns in A is 1\n"
     ]
    }
   ],
   "source": [
    "#14. How to tell if a given 2D array has null columns?\n",
    "num_rows = 2 # number of rows\n",
    "num_cols = 5 # number of columns\n",
    "A = np.random.randint(low=0, high=2, size=(num_rows, num_cols))  # the 2D array\n",
    "print(A)\n",
    "B = np.zeros(shape=(num_rows,1), dtype=int)  # all zero values\n",
    "print(B)\n",
    "result = np.sum(np.all(A==B, axis=0)) # computes the number of null columns in A\n",
    "print(f\"The number of null columns in A is {result}\")"
   ]
  },
  {
   "cell_type": "code",
   "execution_count": 16,
   "metadata": {},
   "outputs": [
    {
     "name": "stdout",
     "output_type": "stream",
     "text": [
      "[[[[0 0]\n",
      "   [1 0]]\n",
      "\n",
      "  [[0 0]\n",
      "   [0 0]]]\n",
      "\n",
      "\n",
      " [[[0 1]\n",
      "   [0 1]]\n",
      "\n",
      "  [[0 0]\n",
      "   [1 0]]]]\n",
      "--------------------\n",
      "[[1 0]\n",
      " [2 1]]\n"
     ]
    }
   ],
   "source": [
    "#15. Considering a four dimensions array, how to get sum over the last two axis at once?\n",
    "A = np.random.randint(low=0, high=2, size=(2, 2, 2, 2))  # the 4D array\n",
    "print(A)\n",
    "print(\"-\"*20)\n",
    "print(np.sum(A, axis=(2,3))) # the 2D array after summing over the last two axis"
   ]
  },
  {
   "cell_type": "code",
   "execution_count": 17,
   "metadata": {},
   "outputs": [
    {
     "data": {
      "text/plain": [
       "array([[[2, 2, 2],\n",
       "        [2, 1, 2],\n",
       "        [1, 2, 1],\n",
       "        [2, 2, 2],\n",
       "        [1, 1, 0]],\n",
       "\n",
       "       [[2, 1, 3],\n",
       "        [2, 1, 2],\n",
       "        [1, 1, 3],\n",
       "        [3, 2, 2],\n",
       "        [1, 0, 2]],\n",
       "\n",
       "       [[2, 3, 1],\n",
       "        [2, 2, 1],\n",
       "        [2, 3, 1],\n",
       "        [2, 3, 1],\n",
       "        [1, 2, 0]],\n",
       "\n",
       "       [[2, 1, 4],\n",
       "        [2, 1, 3],\n",
       "        [1, 1, 3],\n",
       "        [2, 1, 4],\n",
       "        [1, 0, 2]],\n",
       "\n",
       "       [[3, 3, 2],\n",
       "        [2, 2, 1],\n",
       "        [2, 2, 2],\n",
       "        [3, 2, 1],\n",
       "        [1, 1, 1]]])"
      ]
     },
     "execution_count": 17,
     "metadata": {},
     "output_type": "execute_result"
    }
   ],
   "source": [
    "#16. Consider an array of dimension (5,5,3), how to multiply it by an array with dimensions (5,5)?\n",
    "\n",
    "# This question is slightly unclear. I assume the first matrix X is written as (A, B, C) where A, B, and C are 5x5 matrices. \n",
    "# If Y is the array with dimensions (5,5), I define the product of X and Y as (A*Y, B*Y, Z*Y), where * is the matrix\n",
    "# multiplication. The result is a 5x5x3 matrix.\n",
    "\n",
    "X = np.random.randint(low=0, high=2, size=(5, 5, 3))  # the (5,5,3) array\n",
    "Y = np.random.randint(low=0, high=2, size=(5, 5))  # the (5,5) array\n",
    "result = np.zeros(shape=(5,5,3), dtype=int)\n",
    "result[:,:,0] = np.matmul(X[:,:,0],Y)\n",
    "result[:,:,1] = np.matmul(X[:,:,1],Y)\n",
    "result[:,:,2] = np.matmul(X[:,:,2],Y)\n",
    "result"
   ]
  },
  {
   "cell_type": "code",
   "execution_count": 18,
   "metadata": {},
   "outputs": [
    {
     "name": "stdout",
     "output_type": "stream",
     "text": [
      "Block 1 is [[1 0 0]\n",
      " [0 1 0]\n",
      " [1 1 0]]\n",
      "Block 2 is [[0 0 1]\n",
      " [1 0 1]\n",
      " [1 0 0]]\n",
      "Block 3 is [[0 1 1]\n",
      " [0 1 1]\n",
      " [0 0 1]]\n",
      "Block 4 is [[1 1 0]\n",
      " [1 1 0]\n",
      " [0 1 1]]\n",
      "Block 5 is [[1 0 1]\n",
      " [1 0 0]\n",
      " [1 1 1]]\n",
      "Block 6 is [[0 1 0]\n",
      " [0 0 0]\n",
      " [1 1 1]]\n",
      "Block 7 is [[1 0 1]\n",
      " [0 0 1]\n",
      " [1 1 1]]\n",
      "Block 8 is [[0 1 0]\n",
      " [1 1 0]\n",
      " [1 0 1]]\n",
      "Block 9 is [[1 0 1]\n",
      " [1 0 0]\n",
      " [0 1 0]]\n",
      "Block 10 is [[0 1 1]\n",
      " [0 0 1]\n",
      " [1 0 0]]\n",
      "Block 11 is [[1 1 0]\n",
      " [0 1 1]\n",
      " [0 0 0]]\n",
      "Block 12 is [[1 0 0]\n",
      " [1 1 1]\n",
      " [0 0 0]]\n",
      "Block 13 is [[0 0 0]\n",
      " [1 1 1]\n",
      " [0 0 0]]\n",
      "Block 14 is [[0 0 1]\n",
      " [1 1 1]\n",
      " [0 0 0]]\n",
      "Block 15 is [[1 1 0]\n",
      " [1 0 1]\n",
      " [0 1 0]]\n",
      "Block 16 is [[1 0 0]\n",
      " [0 1 0]\n",
      " [1 0 1]]\n",
      "Block 17 is [[0 0 1]\n",
      " [1 0 0]\n",
      " [0 1 0]]\n",
      "Block 18 is [[0 1 1]\n",
      " [0 0 0]\n",
      " [1 0 1]]\n",
      "Block 19 is [[1 1 1]\n",
      " [0 0 0]\n",
      " [0 1 0]]\n",
      "Block 20 is [[1 1 1]\n",
      " [0 0 0]\n",
      " [1 0 0]]\n",
      "Block 21 is [[1 1 1]\n",
      " [0 0 0]\n",
      " [0 0 1]]\n",
      "Block 22 is [[1 0 1]\n",
      " [0 1 0]\n",
      " [1 1 1]]\n",
      "Block 23 is [[0 1 0]\n",
      " [1 0 1]\n",
      " [1 1 1]]\n",
      "Block 24 is [[1 0 0]\n",
      " [0 1 0]\n",
      " [1 1 0]]\n",
      "Block 25 is [[0 0 0]\n",
      " [1 0 1]\n",
      " [1 0 1]]\n",
      "Block 26 is [[0 0 0]\n",
      " [0 1 0]\n",
      " [0 1 0]]\n",
      "Block 27 is [[0 0 0]\n",
      " [1 0 0]\n",
      " [1 0 0]]\n",
      "Block 28 is [[0 0 0]\n",
      " [0 0 1]\n",
      " [0 0 0]]\n",
      "Block 29 is [[0 1 0]\n",
      " [1 1 1]\n",
      " [0 1 1]]\n",
      "Block 30 is [[1 0 1]\n",
      " [1 1 1]\n",
      " [1 1 1]]\n",
      "Block 31 is [[0 1 0]\n",
      " [1 1 0]\n",
      " [1 1 1]]\n",
      "Block 32 is [[1 0 1]\n",
      " [1 0 1]\n",
      " [1 1 0]]\n",
      "Block 33 is [[0 1 0]\n",
      " [0 1 0]\n",
      " [1 0 0]]\n",
      "Block 34 is [[1 0 0]\n",
      " [1 0 0]\n",
      " [0 0 1]]\n",
      "Block 35 is [[0 0 1]\n",
      " [0 0 0]\n",
      " [0 1 1]]\n",
      "Block 36 is [[1 1 1]\n",
      " [0 1 1]\n",
      " [1 1 0]]\n",
      "Block 37 is [[1 1 1]\n",
      " [1 1 1]\n",
      " [1 0 0]]\n",
      "Block 38 is [[1 1 0]\n",
      " [1 1 1]\n",
      " [0 0 1]]\n",
      "Block 39 is [[1 0 1]\n",
      " [1 1 0]\n",
      " [0 1 0]]\n",
      "Block 40 is [[0 1 0]\n",
      " [1 0 0]\n",
      " [1 0 0]]\n",
      "Block 41 is [[1 0 0]\n",
      " [0 0 1]\n",
      " [0 0 1]]\n",
      "Block 42 is [[0 0 0]\n",
      " [0 1 1]\n",
      " [0 1 1]]\n",
      "Block 43 is [[0 1 1]\n",
      " [1 1 0]\n",
      " [0 0 0]]\n",
      "Block 44 is [[1 1 1]\n",
      " [1 0 0]\n",
      " [0 0 0]]\n",
      "Block 45 is [[1 1 1]\n",
      " [0 0 1]\n",
      " [0 0 1]]\n",
      "Block 46 is [[1 1 0]\n",
      " [0 1 0]\n",
      " [0 1 1]]\n",
      "Block 47 is [[1 0 0]\n",
      " [1 0 0]\n",
      " [1 1 0]]\n",
      "Block 48 is [[0 0 1]\n",
      " [0 0 1]\n",
      " [1 0 0]]\n",
      "Block 49 is [[0 1 1]\n",
      " [0 1 1]\n",
      " [0 0 0]]\n"
     ]
    }
   ],
   "source": [
    "#17. Extract all the contiguous 3x3 blocks from a random 10x10 matrix\n",
    "\n",
    "X = np.random.randint(low=0, high=2, size=(10, 10))  # the (10,10) array\n",
    "\n",
    "count = 0\n",
    "for i in range(7):\n",
    "    for j in range(7):\n",
    "        count += 1\n",
    "        print(f\"Block {count} is {X[i:i+3,j:j+3]}\") # there will be 49 blocks printed\n"
   ]
  },
  {
   "cell_type": "code",
   "execution_count": 19,
   "metadata": {},
   "outputs": [
    {
     "name": "stdout",
     "output_type": "stream",
     "text": [
      "[[1 1 0 0 1 1 1 1 0 1 1 1 1 0 1 1]\n",
      " [1 1 0 0 0 0 0 1 1 1 1 0 0 0 0 1]\n",
      " [0 0 0 1 0 1 0 1 1 1 1 0 0 0 0 0]\n",
      " [1 1 0 1 0 1 0 0 1 0 0 0 0 0 0 0]\n",
      " [1 1 0 0 1 1 0 1 1 0 1 0 0 0 0 1]\n",
      " [0 1 1 0 1 0 0 0 0 1 0 0 0 1 0 1]\n",
      " [0 0 1 0 1 1 0 0 1 0 1 1 1 1 0 1]\n",
      " [0 0 1 1 0 1 1 1 0 0 0 1 1 1 0 0]\n",
      " [0 1 0 1 1 1 0 0 1 0 0 0 0 1 1 1]\n",
      " [0 1 0 1 1 1 1 0 1 0 0 0 0 0 1 1]\n",
      " [1 0 0 0 1 1 1 0 1 1 0 1 0 0 0 1]\n",
      " [0 0 1 1 1 1 0 0 1 0 0 0 0 1 1 0]\n",
      " [0 1 1 0 0 1 0 1 1 0 0 0 1 0 0 0]\n",
      " [1 0 1 0 1 0 1 0 0 1 1 0 1 0 0 0]\n",
      " [0 1 0 0 1 1 0 0 1 1 0 1 0 0 0 1]\n",
      " [0 0 0 1 0 0 0 1 1 0 0 1 1 1 0 1]]\n",
      "----------------------------------------\n",
      "When the block size is 4x4, the block-sum is \n",
      "[[ 8  8 10  4]\n",
      " [ 7  9  7  8]\n",
      " [ 7 10  6  8]\n",
      " [ 6  7  8  6]]\n"
     ]
    }
   ],
   "source": [
    "#18. Consider a 16x16 array, how to get the block-sum (block size is 4x4)?\n",
    "\n",
    "X = np.random.randint(low=0, high=2, size=(16, 16))  # the (16,16) array\n",
    "print(X)\n",
    "print(\"--\"*20)\n",
    "X1, X2, X3, X4 = np.vsplit(X, [4, 8, 12])\n",
    "X11, X12, X13, X14 = np.hsplit(X1, [4, 8, 12])\n",
    "X21, X22, X23, X24 = np.hsplit(X2, [4, 8, 12])\n",
    "X31, X32, X33, X34 = np.hsplit(X3, [4, 8, 12])\n",
    "X41, X42, X43, X44 = np.hsplit(X4, [4, 8, 12])\n",
    "Y = np.array([[np.sum(X11), np.sum(X12), np.sum(X13), np.sum(X14)], [np.sum(X21), np.sum(X22), np.sum(X23), np.sum(X24)], [np.sum(X31), np.sum(X32), np.sum(X33), np.sum(X34)], [np.sum(X41), np.sum(X42), np.sum(X43), np.sum(X44)]])\n",
    "print(f\"When the block size is 4x4, the block-sum is \\n{Y}\")\n",
    "\n",
    "#print(np.arange(0, X.shape[0], 4))\n",
    "#Y = np.add.reduceat(np.add.reduceat(X, np.arange(0, X.shape[0], 4), axis=0),\n",
    "#                                       np.arange(0, X.shape[1], 4), axis=1)\n",
    "#print(f\"When the block size is 4x4, the block-sum is \\n{Y}\")"
   ]
  },
  {
   "cell_type": "code",
   "execution_count": 20,
   "metadata": {},
   "outputs": [
    {
     "name": "stdout",
     "output_type": "stream",
     "text": [
      "[10 75 67 62 94 35 93 89 79 92]\n",
      "The mean of X is 69.60\n",
      "The standard deviation of X is 26.37\n",
      "The 0% percentile of X is 10.00\n",
      "The 10% percentile of X is 32.50\n",
      "The 20% percentile of X is 56.60\n",
      "The 30% percentile of X is 65.50\n",
      "The 40% percentile of X is 71.80\n",
      "The 50% percentile of X is 77.00\n",
      "The 60% percentile of X is 83.00\n",
      "The 70% percentile of X is 89.90\n",
      "The 80% percentile of X is 92.20\n",
      "The 90% percentile of X is 93.10\n"
     ]
    }
   ],
   "source": [
    "#19. Calculate summary statistics: mean, std, 0%,10%,20%,…, percentiles (look for how to do that in the numpy documentation).\n",
    "\n",
    "X = np.random.randint(low=0, high=100, size=(10,))  # the array of size 10\n",
    "print(X)\n",
    "print(f\"The mean of X is {np.mean(X):.2f}\")\n",
    "print(f\"The standard deviation of X is {np.std(X):.2f}\")\n",
    "for k in list(range(100))[::10]:\n",
    "    print(f\"The {k}% percentile of X is {np.percentile(X, k):.2f}\")"
   ]
  },
  {
   "cell_type": "code",
   "execution_count": 21,
   "metadata": {},
   "outputs": [
    {
     "data": {
      "text/plain": [
       "Ttest_indResult(statistic=-2.826692486177917, pvalue=0.00479708462987112)"
      ]
     },
     "execution_count": 21,
     "metadata": {},
     "output_type": "execute_result"
    }
   ],
   "source": [
    "#20. Run a t-test of two Gaussian distribution means using scipy (see https://scipy-lectures.org/intro/scipy.html, Sec. 1.6.6.3.\n",
    "\n",
    "from scipy import stats\n",
    "\n",
    "x = np.random.normal(loc=0, scale=1, size=500)\n",
    "y = np.random.normal(loc=0.1, scale=0.8, size=500)\n",
    "stats.ttest_ind(x, y)"
   ]
  },
  {
   "cell_type": "code",
   "execution_count": null,
   "metadata": {},
   "outputs": [],
   "source": []
  }
 ],
 "metadata": {
  "hide_input": false,
  "kernelspec": {
   "display_name": "Python 3",
   "language": "python",
   "name": "python3"
  },
  "language_info": {
   "codemirror_mode": {
    "name": "ipython",
    "version": 3
   },
   "file_extension": ".py",
   "mimetype": "text/x-python",
   "name": "python",
   "nbconvert_exporter": "python",
   "pygments_lexer": "ipython3",
   "version": "3.8.8"
  }
 },
 "nbformat": 4,
 "nbformat_minor": 4
}
